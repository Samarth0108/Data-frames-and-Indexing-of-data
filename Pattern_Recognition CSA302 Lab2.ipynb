{
 "cells": [
  {
   "cell_type": "markdown",
   "id": "d5b91545-dd4e-4b30-8db5-526c71a838b1",
   "metadata": {},
   "source": [
    "# Practical - 2"
   ]
  },
  {
   "cell_type": "markdown",
   "id": "c907c30e-1c54-41f1-a4f6-d52213a3add4",
   "metadata": {},
   "source": [
    "### Data Frames, Loading datasets, Splitting, Indexing of Datasets"
   ]
  },
  {
   "cell_type": "markdown",
   "id": "c92cb9ae-c122-45d5-bf53-acfb74e6e59b",
   "metadata": {},
   "source": [
    "### Write a python program to do the following operations"
   ]
  },
  {
   "cell_type": "markdown",
   "id": "d2afe96e-9587-45f8-a61d-03f126c01ba9",
   "metadata": {},
   "source": [
    "### Library: Pandas"
   ]
  },
  {
   "cell_type": "code",
   "execution_count": 4,
   "id": "976e6dc6-cb1c-44fc-98db-66649ceca555",
   "metadata": {},
   "outputs": [
    {
     "data": {
      "text/html": [
       "<div>\n",
       "<style scoped>\n",
       "    .dataframe tbody tr th:only-of-type {\n",
       "        vertical-align: middle;\n",
       "    }\n",
       "\n",
       "    .dataframe tbody tr th {\n",
       "        vertical-align: top;\n",
       "    }\n",
       "\n",
       "    .dataframe thead th {\n",
       "        text-align: right;\n",
       "    }\n",
       "</style>\n",
       "<table border=\"1\" class=\"dataframe\">\n",
       "  <thead>\n",
       "    <tr style=\"text-align: right;\">\n",
       "      <th></th>\n",
       "      <th>credit.policy</th>\n",
       "      <th>purpose</th>\n",
       "      <th>int.rate</th>\n",
       "      <th>installment</th>\n",
       "      <th>log.annual.inc</th>\n",
       "      <th>dti</th>\n",
       "      <th>fico</th>\n",
       "      <th>days.with.cr.line</th>\n",
       "      <th>revol.bal</th>\n",
       "      <th>revol.util</th>\n",
       "      <th>inq.last.6mths</th>\n",
       "      <th>delinq.2yrs</th>\n",
       "      <th>pub.rec</th>\n",
       "      <th>not.fully.paid</th>\n",
       "    </tr>\n",
       "  </thead>\n",
       "  <tbody>\n",
       "    <tr>\n",
       "      <th>0</th>\n",
       "      <td>1</td>\n",
       "      <td>debt_consolidation</td>\n",
       "      <td>0.1189</td>\n",
       "      <td>829.10</td>\n",
       "      <td>11.350407</td>\n",
       "      <td>19.48</td>\n",
       "      <td>737</td>\n",
       "      <td>5639.958333</td>\n",
       "      <td>28854</td>\n",
       "      <td>52.1</td>\n",
       "      <td>0</td>\n",
       "      <td>0</td>\n",
       "      <td>0</td>\n",
       "      <td>0</td>\n",
       "    </tr>\n",
       "    <tr>\n",
       "      <th>1</th>\n",
       "      <td>1</td>\n",
       "      <td>credit_card</td>\n",
       "      <td>0.1071</td>\n",
       "      <td>228.22</td>\n",
       "      <td>11.082143</td>\n",
       "      <td>14.29</td>\n",
       "      <td>707</td>\n",
       "      <td>2760.000000</td>\n",
       "      <td>33623</td>\n",
       "      <td>76.7</td>\n",
       "      <td>0</td>\n",
       "      <td>0</td>\n",
       "      <td>0</td>\n",
       "      <td>0</td>\n",
       "    </tr>\n",
       "    <tr>\n",
       "      <th>2</th>\n",
       "      <td>1</td>\n",
       "      <td>debt_consolidation</td>\n",
       "      <td>0.1357</td>\n",
       "      <td>366.86</td>\n",
       "      <td>10.373491</td>\n",
       "      <td>11.63</td>\n",
       "      <td>682</td>\n",
       "      <td>4710.000000</td>\n",
       "      <td>3511</td>\n",
       "      <td>25.6</td>\n",
       "      <td>1</td>\n",
       "      <td>0</td>\n",
       "      <td>0</td>\n",
       "      <td>0</td>\n",
       "    </tr>\n",
       "    <tr>\n",
       "      <th>3</th>\n",
       "      <td>1</td>\n",
       "      <td>debt_consolidation</td>\n",
       "      <td>0.1008</td>\n",
       "      <td>162.34</td>\n",
       "      <td>11.350407</td>\n",
       "      <td>8.10</td>\n",
       "      <td>712</td>\n",
       "      <td>2699.958333</td>\n",
       "      <td>33667</td>\n",
       "      <td>73.2</td>\n",
       "      <td>1</td>\n",
       "      <td>0</td>\n",
       "      <td>0</td>\n",
       "      <td>0</td>\n",
       "    </tr>\n",
       "    <tr>\n",
       "      <th>4</th>\n",
       "      <td>1</td>\n",
       "      <td>credit_card</td>\n",
       "      <td>0.1426</td>\n",
       "      <td>102.92</td>\n",
       "      <td>11.299732</td>\n",
       "      <td>14.97</td>\n",
       "      <td>667</td>\n",
       "      <td>4066.000000</td>\n",
       "      <td>4740</td>\n",
       "      <td>39.5</td>\n",
       "      <td>0</td>\n",
       "      <td>1</td>\n",
       "      <td>0</td>\n",
       "      <td>0</td>\n",
       "    </tr>\n",
       "  </tbody>\n",
       "</table>\n",
       "</div>"
      ],
      "text/plain": [
       "   credit.policy             purpose  int.rate  installment  log.annual.inc  \\\n",
       "0              1  debt_consolidation    0.1189       829.10       11.350407   \n",
       "1              1         credit_card    0.1071       228.22       11.082143   \n",
       "2              1  debt_consolidation    0.1357       366.86       10.373491   \n",
       "3              1  debt_consolidation    0.1008       162.34       11.350407   \n",
       "4              1         credit_card    0.1426       102.92       11.299732   \n",
       "\n",
       "     dti  fico  days.with.cr.line  revol.bal  revol.util  inq.last.6mths  \\\n",
       "0  19.48   737        5639.958333      28854        52.1               0   \n",
       "1  14.29   707        2760.000000      33623        76.7               0   \n",
       "2  11.63   682        4710.000000       3511        25.6               1   \n",
       "3   8.10   712        2699.958333      33667        73.2               1   \n",
       "4  14.97   667        4066.000000       4740        39.5               0   \n",
       "\n",
       "   delinq.2yrs  pub.rec  not.fully.paid  \n",
       "0            0        0               0  \n",
       "1            0        0               0  \n",
       "2            0        0               0  \n",
       "3            0        0               0  \n",
       "4            1        0               0  "
      ]
     },
     "execution_count": 4,
     "metadata": {},
     "output_type": "execute_result"
    }
   ],
   "source": [
    "import pandas as pd\n",
    "df=pd.read_csv('loan_data.csv')\n",
    "df.head()"
   ]
  },
  {
   "cell_type": "code",
   "execution_count": 6,
   "id": "d4689f74-9f0b-4ef6-8165-78b2cd981b56",
   "metadata": {},
   "outputs": [
    {
     "name": "stdout",
     "output_type": "stream",
     "text": [
      "<class 'pandas.core.frame.DataFrame'>\n",
      "RangeIndex: 9578 entries, 0 to 9577\n",
      "Data columns (total 14 columns):\n",
      " #   Column             Non-Null Count  Dtype  \n",
      "---  ------             --------------  -----  \n",
      " 0   credit.policy      9578 non-null   int64  \n",
      " 1   purpose            9578 non-null   object \n",
      " 2   int.rate           9578 non-null   float64\n",
      " 3   installment        9578 non-null   float64\n",
      " 4   log.annual.inc     9578 non-null   float64\n",
      " 5   dti                9578 non-null   float64\n",
      " 6   fico               9578 non-null   int64  \n",
      " 7   days.with.cr.line  9578 non-null   float64\n",
      " 8   revol.bal          9578 non-null   int64  \n",
      " 9   revol.util         9578 non-null   float64\n",
      " 10  inq.last.6mths     9578 non-null   int64  \n",
      " 11  delinq.2yrs        9578 non-null   int64  \n",
      " 12  pub.rec            9578 non-null   int64  \n",
      " 13  not.fully.paid     9578 non-null   int64  \n",
      "dtypes: float64(6), int64(7), object(1)\n",
      "memory usage: 1.0+ MB\n"
     ]
    }
   ],
   "source": [
    "df.info()"
   ]
  },
  {
   "cell_type": "code",
   "execution_count": 12,
   "id": "ecc0596a-d567-4021-867f-7910768d9e88",
   "metadata": {},
   "outputs": [
    {
     "name": "stdout",
     "output_type": "stream",
     "text": [
      "      credit.policy             purpose  int.rate  installment  \\\n",
      "2                 1  debt_consolidation    0.1357       366.86   \n",
      "4                 1         credit_card    0.1426       102.92   \n",
      "6                 1  debt_consolidation    0.1496       194.02   \n",
      "13                1      small_business    0.0714        92.82   \n",
      "16                1           all_other    0.1317        77.69   \n",
      "...             ...                 ...       ...          ...   \n",
      "9550              0           all_other    0.1459       137.86   \n",
      "9567              0           all_other    0.1311       101.24   \n",
      "9572              0  debt_consolidation    0.1565        69.98   \n",
      "9574              0           all_other    0.1253       257.70   \n",
      "9576              0    home_improvement    0.1600       351.58   \n",
      "\n",
      "      log.annual.inc    dti  fico  days.with.cr.line  revol.bal  revol.util  \\\n",
      "2          10.373491  11.63   682        4710.000000       3511        25.6   \n",
      "4          11.299732  14.97   667        4066.000000       4740        39.5   \n",
      "6          10.714418   4.00   667        3180.041667       3839        76.8   \n",
      "13         11.512925   6.50   747        4384.000000       3021         4.8   \n",
      "16         10.522773   2.26   672        3895.958333       2211        88.4   \n",
      "...              ...    ...   ...                ...        ...         ...   \n",
      "9550       10.085809   1.15   732        1230.041667        972        11.3   \n",
      "9567       10.968198   8.23   687        2790.041667       1514        13.8   \n",
      "9572       10.110472   7.02   662        8190.041667       2999        39.5   \n",
      "9574       11.141862   0.21   722        4380.000000        184         1.1   \n",
      "9576       10.819778  19.18   692        1800.000000          0         3.2   \n",
      "\n",
      "      inq.last.6mths  delinq.2yrs  pub.rec  not.fully.paid  \n",
      "2                  1            0        0               0  \n",
      "4                  0            1        0               0  \n",
      "6                  0            0        1               1  \n",
      "13                 0            1        0               0  \n",
      "16                 0            0        0               0  \n",
      "...              ...          ...      ...             ...  \n",
      "9550               5            0        0               0  \n",
      "9567               5            0        0               0  \n",
      "9572               6            0        0               1  \n",
      "9574               5            0        0               1  \n",
      "9576               5            0        0               1  \n",
      "\n",
      "[3301 rows x 14 columns]\n"
     ]
    }
   ],
   "source": [
    "# creating a new dataframe by applying the required conditions in []\n",
    "\n",
    "df1 = df[df['revol.bal']<=5000]\n",
    "print(df1)"
   ]
  },
  {
   "cell_type": "code",
   "execution_count": 15,
   "id": "398353c1-4103-44b9-8be4-3c54b447196d",
   "metadata": {},
   "outputs": [
    {
     "name": "stdout",
     "output_type": "stream",
     "text": [
      "      credit.policy             purpose  int.rate  installment  \\\n",
      "2                 1  debt_consolidation    0.1357       366.86   \n",
      "1895              1         credit_card    0.1357       237.78   \n",
      "3388              1  debt_consolidation    0.1357       679.37   \n",
      "3513              1           all_other    0.1357       154.56   \n",
      "3880              1         credit_card    0.1357       271.75   \n",
      "...             ...                 ...       ...          ...   \n",
      "9412              0           all_other    0.1357       407.63   \n",
      "9477              0  debt_consolidation    0.1357       254.77   \n",
      "9482              0  debt_consolidation    0.1357       339.69   \n",
      "9487              0  debt_consolidation    0.1357       823.74   \n",
      "9511              0  debt_consolidation    0.1357       679.37   \n",
      "\n",
      "      log.annual.inc    dti  fico  days.with.cr.line  revol.bal  revol.util  \\\n",
      "2          10.373491  11.63   682        4710.000000       3511        25.6   \n",
      "1895       11.050890  19.20   677        4290.000000      18748        72.4   \n",
      "3388       11.492723   7.80   702        7746.000000      24918        29.7   \n",
      "3513       11.775290  17.46   682        4800.000000      66461        90.1   \n",
      "3880        9.680344   7.35   692        1514.000000       4341        31.2   \n",
      "...              ...    ...   ...                ...        ...         ...   \n",
      "9412       10.908247  13.77   727        4955.041667       9139        49.4   \n",
      "9477       10.532096  13.02   687        2130.000000       9451        33.3   \n",
      "9482       10.373491  22.95   687        3150.041667      10624        62.9   \n",
      "9487       12.206073  14.30   722        5371.041667     155946        90.1   \n",
      "9511       10.308953   9.44   712        5390.041667       3366        14.0   \n",
      "\n",
      "      inq.last.6mths  delinq.2yrs  pub.rec  not.fully.paid  \n",
      "2                  1            0        0               0  \n",
      "1895               2            0        0               0  \n",
      "3388               1            0        0               0  \n",
      "3513               0            0        0               0  \n",
      "3880               0            0        0               0  \n",
      "...              ...          ...      ...             ...  \n",
      "9412               7            0        0               0  \n",
      "9477               4            0        0               1  \n",
      "9482               4            0        0               0  \n",
      "9487               0            0        0               1  \n",
      "9511               4            0        0               0  \n",
      "\n",
      "[152 rows x 14 columns]\n"
     ]
    }
   ],
   "source": [
    "# Creating on the basis of Last_Name\n",
    "\n",
    "dfname = df[df['int.rate']==0.1357]\n",
    "print(dfname)"
   ]
  },
  {
   "cell_type": "markdown",
   "id": "d58a86df-1b5e-4f2e-9612-4ca6fe3429d6",
   "metadata": {},
   "source": [
    "## Creating a dataframe for demonestration"
   ]
  },
  {
   "cell_type": "code",
   "execution_count": 19,
   "id": "9d0c56f8-0946-47da-871d-612168307344",
   "metadata": {},
   "outputs": [
    {
     "name": "stdout",
     "output_type": "stream",
     "text": [
      "  First_Name Last_Name               Email_ID  Degree  Score\n",
      "0     Aparna    Pandey      apandey@gmail.com     MBA     90\n",
      "1     Pankaj     Gupta       pankaj@gmail.com     BCA     40\n",
      "2     Sudhir    Mishra   sumishra23@gmail.com  M.Tech     75\n",
      "3      Geeku    Chopra       cgeeku@yahoo.com     MBA     98\n",
      "4       Anuj    Mishra       anuj24@gmail.com    B.Sc     94\n",
      "5       Aman     Verma      amanver@yahoo.com  B.Tech     90\n",
      "6     Madhav       Sen   madhav1998@gmail.com  B.Tech     80\n",
      "7        Raj       Roy        rroy7@gmail.com     MBA     90\n",
      "8     Shruti   Agarwal  sagarwal136@gmail.com  M.Tech     95\n"
     ]
    }
   ],
   "source": [
    "import pandas as pd\n",
    "\n",
    "# dictionary of lists\n",
    "dict={'First_Name': [\"Aparna\", \"Pankaj\",\"Sudhir\", \n",
    "                     \"Geeku\", \"Anuj\", \"Aman\",\n",
    "                     \"Madhav\", \"Raj\", \"Shruti\"],\n",
    "      'Last_Name': [\"Pandey\", \"Gupta\",\"Mishra\",\n",
    "                    \"Chopra\", \"Mishra\", \"Verma\",\n",
    "                    \"Sen\", \"Roy\", \"Agarwal\"],\n",
    "      'Email_ID': [\"apandey@gmail.com\", \"pankaj@gmail.com\",\n",
    "                   \"sumishra23@gmail.com\", \"cgeeku@yahoo.com\",\n",
    "                   \"anuj24@gmail.com\", \"amanver@yahoo.com\",\n",
    "                   \"madhav1998@gmail.com\", \"rroy7@gmail.com\",\n",
    "                   \"sagarwal136@gmail.com\"],\n",
    "      'Degree': [\"MBA\", \"BCA\", \"M.Tech\", \"MBA\", \"B.Sc\",\n",
    "                 \"B.Tech\", \"B.Tech\", \"MBA\", \"M.Tech\"],\n",
    "      'Score': [90,40,75,98,94,90,80,90,95]}\n",
    "\n",
    "#creating dataframe\n",
    "df=pd.DataFrame(dict)\n",
    "print(df)"
   ]
  },
  {
   "cell_type": "markdown",
   "id": "29c6a70e-c8ff-4788-8db6-51f77ae93031",
   "metadata": {},
   "source": [
    "### Split dataframe based on values by Boolean Indexing"
   ]
  },
  {
   "cell_type": "markdown",
   "id": "f4d27334-199b-44d0-b557-0231a01674f1",
   "metadata": {},
   "source": [
    "### Eg1: A dataframe to create for the students with a score >=80"
   ]
  },
  {
   "cell_type": "code",
   "execution_count": 22,
   "id": "2dfa1f1a-6451-4daf-b7e3-54f3709c0837",
   "metadata": {},
   "outputs": [
    {
     "name": "stdout",
     "output_type": "stream",
     "text": [
      "  First_Name Last_Name               Email_ID  Degree  Score\n",
      "0     Aparna    Pandey      apandey@gmail.com     MBA     90\n",
      "3      Geeku    Chopra       cgeeku@yahoo.com     MBA     98\n",
      "4       Anuj    Mishra       anuj24@gmail.com    B.Sc     94\n",
      "5       Aman     Verma      amanver@yahoo.com  B.Tech     90\n",
      "6     Madhav       Sen   madhav1998@gmail.com  B.Tech     80\n",
      "7        Raj       Roy        rroy7@gmail.com     MBA     90\n",
      "8     Shruti   Agarwal  sagarwal136@gmail.com  M.Tech     95\n"
     ]
    }
   ],
   "source": [
    "df1= df[df['Score']>=80]\n",
    "print(df1)"
   ]
  },
  {
   "cell_type": "markdown",
   "id": "17e9d96b-2d31-45cf-a925-c0d4959b2c81",
   "metadata": {},
   "source": [
    "### Eg2: To create a dataframe for the students with Last name as \"MISHRA\""
   ]
  },
  {
   "cell_type": "code",
   "execution_count": 26,
   "id": "e7142bac-deb3-442d-8941-c1d2aa5c9bd3",
   "metadata": {},
   "outputs": [
    {
     "name": "stdout",
     "output_type": "stream",
     "text": [
      "  First_Name Last_Name              Email_ID  Degree  Score\n",
      "2     Sudhir    Mishra  sumishra23@gmail.com  M.Tech     75\n",
      "4       Anuj    Mishra      anuj24@gmail.com    B.Sc     94\n"
     ]
    }
   ],
   "source": [
    "dfname=df[df['Last_Name']=='Mishra']\n",
    "print(dfname)"
   ]
  },
  {
   "cell_type": "markdown",
   "id": "603351c3-e1cf-4e11-8b3c-2bd7ad2fe866",
   "metadata": {},
   "source": [
    "### Split dataframe based on values by Boolean Indexing with mask variable"
   ]
  },
  {
   "cell_type": "code",
   "execution_count": 32,
   "id": "fd19bb3d-dcfa-437d-9c68-2e33286eb54e",
   "metadata": {},
   "outputs": [
    {
     "name": "stdout",
     "output_type": "stream",
     "text": [
      "  First_Name Last_Name           Email_ID Degree  Score\n",
      "0     Aparna    Pandey  apandey@gmail.com    MBA     90\n",
      "3      Geeku    Chopra   cgeeku@yahoo.com    MBA     98\n",
      "7        Raj       Roy    rroy7@gmail.com    MBA     90\n"
     ]
    }
   ],
   "source": [
    "mask_var=df['Degree']=='MBA'\n",
    "df1_mask=df[mask_var]\n",
    "print(df1_mask)"
   ]
  },
  {
   "cell_type": "markdown",
   "id": "9bd26922-ce74-4cd8-a608-cc22603ff83e",
   "metadata": {},
   "source": [
    "### Eg : Dataframe to get the rest of the values using mask variable"
   ]
  },
  {
   "cell_type": "code",
   "execution_count": 34,
   "id": "5927d661-3499-4de0-8c2d-31e0bc402e4a",
   "metadata": {},
   "outputs": [
    {
     "name": "stdout",
     "output_type": "stream",
     "text": [
      "  First_Name Last_Name               Email_ID  Degree  Score\n",
      "1     Pankaj     Gupta       pankaj@gmail.com     BCA     40\n",
      "2     Sudhir    Mishra   sumishra23@gmail.com  M.Tech     75\n",
      "4       Anuj    Mishra       anuj24@gmail.com    B.Sc     94\n",
      "5       Aman     Verma      amanver@yahoo.com  B.Tech     90\n",
      "6     Madhav       Sen   madhav1998@gmail.com  B.Tech     80\n",
      "8     Shruti   Agarwal  sagarwal136@gmail.com  M.Tech     95\n"
     ]
    }
   ],
   "source": [
    "df2_mask=df[~mask_var]\n",
    "print(df2_mask)"
   ]
  },
  {
   "cell_type": "markdown",
   "id": "1d944fb5-b3f0-46ab-adcf-2e8aa862ea66",
   "metadata": {},
   "source": [
    "### Split dataframe based on values by Boolean Indexing using groupby()"
   ]
  },
  {
   "cell_type": "markdown",
   "id": "ab7b438a-cab5-4413-8411-ea17b4aed30a",
   "metadata": {},
   "source": [
    "### Grouping all students according to degree"
   ]
  },
  {
   "cell_type": "code",
   "execution_count": 40,
   "id": "16da37e9-f242-4f97-9980-2fa3f6fb54b0",
   "metadata": {},
   "outputs": [
    {
     "name": "stdout",
     "output_type": "stream",
     "text": [
      "  First_Name Last_Name           Email_ID Degree  Score\n",
      "0     Aparna    Pandey  apandey@gmail.com    MBA     90\n",
      "3      Geeku    Chopra   cgeeku@yahoo.com    MBA     98\n",
      "7        Raj       Roy    rroy7@gmail.com    MBA     90\n"
     ]
    }
   ],
   "source": [
    "grouped=df.groupby('Degree')\n",
    "df_grouped=grouped.get_group('MBA')\n",
    "print(df_grouped)"
   ]
  },
  {
   "cell_type": "markdown",
   "id": "44ffa97e-7604-48ab-9a26-f8a6d720e4f2",
   "metadata": {},
   "source": [
    "### Grouping all students according to their Last name as Mishra"
   ]
  },
  {
   "cell_type": "code",
   "execution_count": 42,
   "id": "8a7d192d-e0ee-403e-b347-04fb1ebb192a",
   "metadata": {},
   "outputs": [
    {
     "name": "stdout",
     "output_type": "stream",
     "text": [
      "  First_Name Last_Name              Email_ID  Degree  Score\n",
      "2     Sudhir    Mishra  sumishra23@gmail.com  M.Tech     75\n",
      "4       Anuj    Mishra      anuj24@gmail.com    B.Sc     94\n"
     ]
    }
   ],
   "source": [
    "grouped=df.groupby('Last_Name')\n",
    "df_grouped=grouped.get_group('Mishra')\n",
    "print(df_grouped)"
   ]
  },
  {
   "cell_type": "markdown",
   "id": "54b67db0-70c0-46b3-ae67-243ce91adbb1",
   "metadata": {},
   "source": [
    "### Grouping all students according to their score and display as required"
   ]
  },
  {
   "cell_type": "code",
   "execution_count": 47,
   "id": "9cab6db7-02fe-4e24-a435-cbf4e23a551b",
   "metadata": {},
   "outputs": [
    {
     "name": "stdout",
     "output_type": "stream",
     "text": [
      "  First_Name Last_Name           Email_ID  Degree  Score\n",
      "0     Aparna    Pandey  apandey@gmail.com     MBA     90\n",
      "5       Aman     Verma  amanver@yahoo.com  B.Tech     90\n",
      "7        Raj       Roy    rroy7@gmail.com     MBA     90\n"
     ]
    }
   ],
   "source": [
    "grouped2=df.groupby('Score')\n",
    "df_grouped2=grouped2.get_group(90)\n",
    "print(df_grouped2)"
   ]
  },
  {
   "cell_type": "markdown",
   "id": "dbef8f4a-3d6c-454d-a782-db4d8fc169f3",
   "metadata": {},
   "source": [
    "## Pandas size and Shape Function"
   ]
  },
  {
   "cell_type": "code",
   "execution_count": 50,
   "id": "060e9a8d-c2cc-41e8-9ab3-4985a7e819ae",
   "metadata": {},
   "outputs": [
    {
     "name": "stdout",
     "output_type": "stream",
     "text": [
      "Size=134092\n"
     ]
    }
   ],
   "source": [
    "import pandas as pd\n",
    "data=pd.read_csv(\"loan_data.csv\")\n",
    "\n",
    "#dataframe.size\n",
    "size=data.size\n",
    "\n",
    "print(\"Size={}\".format(size))"
   ]
  },
  {
   "cell_type": "code",
   "execution_count": 56,
   "id": "a2ea24e4-a1ef-4d1d-8069-85c30c8496dd",
   "metadata": {},
   "outputs": [
    {
     "name": "stdout",
     "output_type": "stream",
     "text": [
      "Shape=(9578, 14)\n"
     ]
    }
   ],
   "source": [
    "import pandas as pd\n",
    "data=pd.read_csv(\"loan_data.csv\")\n",
    "\n",
    "#dataframe.shape\n",
    "shape=data.shape\n",
    "\n",
    "print(\"Shape={}\".format(shape))"
   ]
  },
  {
   "cell_type": "markdown",
   "id": "36b74e84-1a97-4c2a-80e2-7a2a9136328e",
   "metadata": {},
   "source": [
    "# Descriptive statistics with python"
   ]
  },
  {
   "cell_type": "code",
   "execution_count": 104,
   "id": "3b952f25-d1f6-4c2d-a83f-eaa77699b1a5",
   "metadata": {},
   "outputs": [],
   "source": [
    "import pandas as pd\n",
    "import numpy as np\n",
    "import seaborn as sns\n",
    "import matplotlib.pyplot as plt\n",
    "%matplotlib inline"
   ]
  },
  {
   "cell_type": "code",
   "execution_count": 106,
   "id": "ddfbdf9f-283f-4d4d-947f-3bf34a221214",
   "metadata": {},
   "outputs": [],
   "source": [
    "import warnings\n",
    "warnings.filterwarnings('ignore')"
   ]
  },
  {
   "cell_type": "code",
   "execution_count": 112,
   "id": "393642e7-0517-4307-a6c1-f9b086d37141",
   "metadata": {},
   "outputs": [
    {
     "data": {
      "text/html": [
       "<div>\n",
       "<style scoped>\n",
       "    .dataframe tbody tr th:only-of-type {\n",
       "        vertical-align: middle;\n",
       "    }\n",
       "\n",
       "    .dataframe tbody tr th {\n",
       "        vertical-align: top;\n",
       "    }\n",
       "\n",
       "    .dataframe thead th {\n",
       "        text-align: right;\n",
       "    }\n",
       "</style>\n",
       "<table border=\"1\" class=\"dataframe\">\n",
       "  <thead>\n",
       "    <tr style=\"text-align: right;\">\n",
       "      <th></th>\n",
       "      <th>lon</th>\n",
       "      <th>lat</th>\n",
       "      <th>company</th>\n",
       "      <th>location</th>\n",
       "      <th>industry</th>\n",
       "      <th>state</th>\n",
       "      <th>city</th>\n",
       "    </tr>\n",
       "  </thead>\n",
       "  <tbody>\n",
       "    <tr>\n",
       "      <th>0</th>\n",
       "      <td>-94.2088</td>\n",
       "      <td>36.3729</td>\n",
       "      <td>Walmart</td>\n",
       "      <td>Bentonville, AR</td>\n",
       "      <td>General Merchandisers</td>\n",
       "      <td>AR</td>\n",
       "      <td>Bentonville</td>\n",
       "    </tr>\n",
       "    <tr>\n",
       "      <th>1</th>\n",
       "      <td>-96.9489</td>\n",
       "      <td>32.8140</td>\n",
       "      <td>Exxon Mobil</td>\n",
       "      <td>Irving, TX</td>\n",
       "      <td>Petroleum Refining</td>\n",
       "      <td>TX</td>\n",
       "      <td>Irving</td>\n",
       "    </tr>\n",
       "    <tr>\n",
       "      <th>2</th>\n",
       "      <td>-121.9780</td>\n",
       "      <td>37.7799</td>\n",
       "      <td>Chevron</td>\n",
       "      <td>San Ramon, CA</td>\n",
       "      <td>Petroleum Refining</td>\n",
       "      <td>CA</td>\n",
       "      <td>San Ramon</td>\n",
       "    </tr>\n",
       "    <tr>\n",
       "      <th>3</th>\n",
       "      <td>-95.9980</td>\n",
       "      <td>41.2524</td>\n",
       "      <td>Berkshire Hathaway</td>\n",
       "      <td>Omaha, NE</td>\n",
       "      <td>Insurance: Property and Casualty (Stock)</td>\n",
       "      <td>NE</td>\n",
       "      <td>Omaha</td>\n",
       "    </tr>\n",
       "    <tr>\n",
       "      <th>4</th>\n",
       "      <td>-122.0320</td>\n",
       "      <td>37.3230</td>\n",
       "      <td>Apple</td>\n",
       "      <td>Cupertino, CA</td>\n",
       "      <td>Computers, Office Equipment</td>\n",
       "      <td>CA</td>\n",
       "      <td>Cupertino</td>\n",
       "    </tr>\n",
       "  </tbody>\n",
       "</table>\n",
       "</div>"
      ],
      "text/plain": [
       "        lon      lat             company         location  \\\n",
       "0  -94.2088  36.3729             Walmart  Bentonville, AR   \n",
       "1  -96.9489  32.8140         Exxon Mobil       Irving, TX   \n",
       "2 -121.9780  37.7799             Chevron    San Ramon, CA   \n",
       "3  -95.9980  41.2524  Berkshire Hathaway        Omaha, NE   \n",
       "4 -122.0320  37.3230               Apple    Cupertino, CA   \n",
       "\n",
       "                                   industry state         city  \n",
       "0                     General Merchandisers    AR  Bentonville  \n",
       "1                        Petroleum Refining    TX       Irving  \n",
       "2                        Petroleum Refining    CA    San Ramon  \n",
       "3  Insurance: Property and Casualty (Stock)    NE        Omaha  \n",
       "4               Computers, Office Equipment    CA    Cupertino  "
      ]
     },
     "execution_count": 112,
     "metadata": {},
     "output_type": "execute_result"
    }
   ],
   "source": [
    "import pandas as pd\n",
    "df=pd.read_csv('fortune500.csv')\n",
    "df.head()"
   ]
  },
  {
   "cell_type": "code",
   "execution_count": 114,
   "id": "b43c96b4-2ab2-4ae7-8ce8-f868fa371adf",
   "metadata": {},
   "outputs": [
    {
     "data": {
      "text/plain": [
       "(1000, 7)"
      ]
     },
     "execution_count": 114,
     "metadata": {},
     "output_type": "execute_result"
    }
   ],
   "source": [
    "df.shape"
   ]
  },
  {
   "cell_type": "code",
   "execution_count": 116,
   "id": "08db9a93-552c-4625-83ef-be438cdb616c",
   "metadata": {},
   "outputs": [
    {
     "name": "stdout",
     "output_type": "stream",
     "text": [
      "<class 'pandas.core.frame.DataFrame'>\n",
      "RangeIndex: 1000 entries, 0 to 999\n",
      "Data columns (total 7 columns):\n",
      " #   Column    Non-Null Count  Dtype  \n",
      "---  ------    --------------  -----  \n",
      " 0   lon       1000 non-null   float64\n",
      " 1   lat       1000 non-null   float64\n",
      " 2   company   1000 non-null   object \n",
      " 3   location  1000 non-null   object \n",
      " 4   industry  1000 non-null   object \n",
      " 5   state     1000 non-null   object \n",
      " 6   city      1000 non-null   object \n",
      "dtypes: float64(2), object(5)\n",
      "memory usage: 54.8+ KB\n"
     ]
    }
   ],
   "source": [
    "df.info()"
   ]
  },
  {
   "cell_type": "markdown",
   "id": "fd92814c-7de2-4fc7-a449-15a8ee5742e1",
   "metadata": {},
   "source": [
    "### Checking for missing values"
   ]
  },
  {
   "cell_type": "code",
   "execution_count": 61,
   "id": "f0a1f709-7c5c-44a0-b00c-8809fa821d6c",
   "metadata": {},
   "outputs": [
    {
     "data": {
      "text/plain": [
       "First_Name    0\n",
       "Last_Name     0\n",
       "Email_ID      0\n",
       "Degree        0\n",
       "Score         0\n",
       "dtype: int64"
      ]
     },
     "execution_count": 61,
     "metadata": {},
     "output_type": "execute_result"
    }
   ],
   "source": [
    "df.isnull().sum()"
   ]
  },
  {
   "cell_type": "markdown",
   "id": "48f224dd-92c9-4c23-b248-a46e3f0c98a7",
   "metadata": {},
   "source": [
    "## Summary statistics of numerical columns"
   ]
  },
  {
   "cell_type": "code",
   "execution_count": 118,
   "id": "858377dd-fe70-4945-aadc-011dcbeaa9b7",
   "metadata": {},
   "outputs": [
    {
     "data": {
      "text/html": [
       "<div>\n",
       "<style scoped>\n",
       "    .dataframe tbody tr th:only-of-type {\n",
       "        vertical-align: middle;\n",
       "    }\n",
       "\n",
       "    .dataframe tbody tr th {\n",
       "        vertical-align: top;\n",
       "    }\n",
       "\n",
       "    .dataframe thead th {\n",
       "        text-align: right;\n",
       "    }\n",
       "</style>\n",
       "<table border=\"1\" class=\"dataframe\">\n",
       "  <thead>\n",
       "    <tr style=\"text-align: right;\">\n",
       "      <th></th>\n",
       "      <th>lon</th>\n",
       "      <th>lat</th>\n",
       "    </tr>\n",
       "  </thead>\n",
       "  <tbody>\n",
       "    <tr>\n",
       "      <th>count</th>\n",
       "      <td>1000.000000</td>\n",
       "      <td>1000.000000</td>\n",
       "    </tr>\n",
       "    <tr>\n",
       "      <th>mean</th>\n",
       "      <td>-89.886327</td>\n",
       "      <td>38.135856</td>\n",
       "    </tr>\n",
       "    <tr>\n",
       "      <th>std</th>\n",
       "      <td>15.414198</td>\n",
       "      <td>4.614641</td>\n",
       "    </tr>\n",
       "    <tr>\n",
       "      <th>min</th>\n",
       "      <td>-157.858000</td>\n",
       "      <td>18.429400</td>\n",
       "    </tr>\n",
       "    <tr>\n",
       "      <th>25%</th>\n",
       "      <td>-95.994100</td>\n",
       "      <td>34.968775</td>\n",
       "    </tr>\n",
       "    <tr>\n",
       "      <th>50%</th>\n",
       "      <td>-86.158100</td>\n",
       "      <td>39.647800</td>\n",
       "    </tr>\n",
       "    <tr>\n",
       "      <th>75%</th>\n",
       "      <td>-77.177300</td>\n",
       "      <td>41.252400</td>\n",
       "    </tr>\n",
       "    <tr>\n",
       "      <th>max</th>\n",
       "      <td>-66.060200</td>\n",
       "      <td>47.674000</td>\n",
       "    </tr>\n",
       "  </tbody>\n",
       "</table>\n",
       "</div>"
      ],
      "text/plain": [
       "               lon          lat\n",
       "count  1000.000000  1000.000000\n",
       "mean    -89.886327    38.135856\n",
       "std      15.414198     4.614641\n",
       "min    -157.858000    18.429400\n",
       "25%     -95.994100    34.968775\n",
       "50%     -86.158100    39.647800\n",
       "75%     -77.177300    41.252400\n",
       "max     -66.060200    47.674000"
      ]
     },
     "execution_count": 118,
     "metadata": {},
     "output_type": "execute_result"
    }
   ],
   "source": [
    "df.describe()"
   ]
  },
  {
   "cell_type": "markdown",
   "id": "adb841d2-7219-4069-b4bc-559da59c5beb",
   "metadata": {},
   "source": [
    "## Summary statistics of character columns"
   ]
  },
  {
   "cell_type": "code",
   "execution_count": 122,
   "id": "0686e77c-4738-45cf-8054-620176bd6547",
   "metadata": {},
   "outputs": [
    {
     "data": {
      "text/html": [
       "<div>\n",
       "<style scoped>\n",
       "    .dataframe tbody tr th:only-of-type {\n",
       "        vertical-align: middle;\n",
       "    }\n",
       "\n",
       "    .dataframe tbody tr th {\n",
       "        vertical-align: top;\n",
       "    }\n",
       "\n",
       "    .dataframe thead th {\n",
       "        text-align: right;\n",
       "    }\n",
       "</style>\n",
       "<table border=\"1\" class=\"dataframe\">\n",
       "  <thead>\n",
       "    <tr style=\"text-align: right;\">\n",
       "      <th></th>\n",
       "      <th>company</th>\n",
       "      <th>location</th>\n",
       "      <th>industry</th>\n",
       "      <th>state</th>\n",
       "      <th>city</th>\n",
       "    </tr>\n",
       "  </thead>\n",
       "  <tbody>\n",
       "    <tr>\n",
       "      <th>count</th>\n",
       "      <td>1000</td>\n",
       "      <td>1000</td>\n",
       "      <td>1000</td>\n",
       "      <td>1000</td>\n",
       "      <td>1000</td>\n",
       "    </tr>\n",
       "    <tr>\n",
       "      <th>unique</th>\n",
       "      <td>1000</td>\n",
       "      <td>410</td>\n",
       "      <td>74</td>\n",
       "      <td>45</td>\n",
       "      <td>394</td>\n",
       "    </tr>\n",
       "    <tr>\n",
       "      <th>top</th>\n",
       "      <td>Walmart</td>\n",
       "      <td>New York, NY</td>\n",
       "      <td>Specialty Retailers: Other</td>\n",
       "      <td>TX</td>\n",
       "      <td>New York</td>\n",
       "    </tr>\n",
       "    <tr>\n",
       "      <th>freq</th>\n",
       "      <td>1</td>\n",
       "      <td>71</td>\n",
       "      <td>43</td>\n",
       "      <td>107</td>\n",
       "      <td>71</td>\n",
       "    </tr>\n",
       "  </tbody>\n",
       "</table>\n",
       "</div>"
      ],
      "text/plain": [
       "        company      location                    industry state      city\n",
       "count      1000          1000                        1000  1000      1000\n",
       "unique     1000           410                          74    45       394\n",
       "top     Walmart  New York, NY  Specialty Retailers: Other    TX  New York\n",
       "freq          1            71                          43   107        71"
      ]
     },
     "execution_count": 122,
     "metadata": {},
     "output_type": "execute_result"
    }
   ],
   "source": [
    "df.describe(include=['object'])"
   ]
  },
  {
   "cell_type": "markdown",
   "id": "39e15f27-8833-4e49-ac23-ac94843ee034",
   "metadata": {},
   "source": [
    "## Summary statistics of all the columns"
   ]
  },
  {
   "cell_type": "code",
   "execution_count": 124,
   "id": "054e2e3e-402f-4f40-bd4f-1d3f8027b194",
   "metadata": {},
   "outputs": [
    {
     "data": {
      "text/html": [
       "<div>\n",
       "<style scoped>\n",
       "    .dataframe tbody tr th:only-of-type {\n",
       "        vertical-align: middle;\n",
       "    }\n",
       "\n",
       "    .dataframe tbody tr th {\n",
       "        vertical-align: top;\n",
       "    }\n",
       "\n",
       "    .dataframe thead th {\n",
       "        text-align: right;\n",
       "    }\n",
       "</style>\n",
       "<table border=\"1\" class=\"dataframe\">\n",
       "  <thead>\n",
       "    <tr style=\"text-align: right;\">\n",
       "      <th></th>\n",
       "      <th>lon</th>\n",
       "      <th>lat</th>\n",
       "      <th>company</th>\n",
       "      <th>location</th>\n",
       "      <th>industry</th>\n",
       "      <th>state</th>\n",
       "      <th>city</th>\n",
       "    </tr>\n",
       "  </thead>\n",
       "  <tbody>\n",
       "    <tr>\n",
       "      <th>count</th>\n",
       "      <td>1000.000000</td>\n",
       "      <td>1000.000000</td>\n",
       "      <td>1000</td>\n",
       "      <td>1000</td>\n",
       "      <td>1000</td>\n",
       "      <td>1000</td>\n",
       "      <td>1000</td>\n",
       "    </tr>\n",
       "    <tr>\n",
       "      <th>unique</th>\n",
       "      <td>NaN</td>\n",
       "      <td>NaN</td>\n",
       "      <td>1000</td>\n",
       "      <td>410</td>\n",
       "      <td>74</td>\n",
       "      <td>45</td>\n",
       "      <td>394</td>\n",
       "    </tr>\n",
       "    <tr>\n",
       "      <th>top</th>\n",
       "      <td>NaN</td>\n",
       "      <td>NaN</td>\n",
       "      <td>Walmart</td>\n",
       "      <td>New York, NY</td>\n",
       "      <td>Specialty Retailers: Other</td>\n",
       "      <td>TX</td>\n",
       "      <td>New York</td>\n",
       "    </tr>\n",
       "    <tr>\n",
       "      <th>freq</th>\n",
       "      <td>NaN</td>\n",
       "      <td>NaN</td>\n",
       "      <td>1</td>\n",
       "      <td>71</td>\n",
       "      <td>43</td>\n",
       "      <td>107</td>\n",
       "      <td>71</td>\n",
       "    </tr>\n",
       "    <tr>\n",
       "      <th>mean</th>\n",
       "      <td>-89.886327</td>\n",
       "      <td>38.135856</td>\n",
       "      <td>NaN</td>\n",
       "      <td>NaN</td>\n",
       "      <td>NaN</td>\n",
       "      <td>NaN</td>\n",
       "      <td>NaN</td>\n",
       "    </tr>\n",
       "    <tr>\n",
       "      <th>std</th>\n",
       "      <td>15.414198</td>\n",
       "      <td>4.614641</td>\n",
       "      <td>NaN</td>\n",
       "      <td>NaN</td>\n",
       "      <td>NaN</td>\n",
       "      <td>NaN</td>\n",
       "      <td>NaN</td>\n",
       "    </tr>\n",
       "    <tr>\n",
       "      <th>min</th>\n",
       "      <td>-157.858000</td>\n",
       "      <td>18.429400</td>\n",
       "      <td>NaN</td>\n",
       "      <td>NaN</td>\n",
       "      <td>NaN</td>\n",
       "      <td>NaN</td>\n",
       "      <td>NaN</td>\n",
       "    </tr>\n",
       "    <tr>\n",
       "      <th>25%</th>\n",
       "      <td>-95.994100</td>\n",
       "      <td>34.968775</td>\n",
       "      <td>NaN</td>\n",
       "      <td>NaN</td>\n",
       "      <td>NaN</td>\n",
       "      <td>NaN</td>\n",
       "      <td>NaN</td>\n",
       "    </tr>\n",
       "    <tr>\n",
       "      <th>50%</th>\n",
       "      <td>-86.158100</td>\n",
       "      <td>39.647800</td>\n",
       "      <td>NaN</td>\n",
       "      <td>NaN</td>\n",
       "      <td>NaN</td>\n",
       "      <td>NaN</td>\n",
       "      <td>NaN</td>\n",
       "    </tr>\n",
       "    <tr>\n",
       "      <th>75%</th>\n",
       "      <td>-77.177300</td>\n",
       "      <td>41.252400</td>\n",
       "      <td>NaN</td>\n",
       "      <td>NaN</td>\n",
       "      <td>NaN</td>\n",
       "      <td>NaN</td>\n",
       "      <td>NaN</td>\n",
       "    </tr>\n",
       "    <tr>\n",
       "      <th>max</th>\n",
       "      <td>-66.060200</td>\n",
       "      <td>47.674000</td>\n",
       "      <td>NaN</td>\n",
       "      <td>NaN</td>\n",
       "      <td>NaN</td>\n",
       "      <td>NaN</td>\n",
       "      <td>NaN</td>\n",
       "    </tr>\n",
       "  </tbody>\n",
       "</table>\n",
       "</div>"
      ],
      "text/plain": [
       "                lon          lat  company      location  \\\n",
       "count   1000.000000  1000.000000     1000          1000   \n",
       "unique          NaN          NaN     1000           410   \n",
       "top             NaN          NaN  Walmart  New York, NY   \n",
       "freq            NaN          NaN        1            71   \n",
       "mean     -89.886327    38.135856      NaN           NaN   \n",
       "std       15.414198     4.614641      NaN           NaN   \n",
       "min     -157.858000    18.429400      NaN           NaN   \n",
       "25%      -95.994100    34.968775      NaN           NaN   \n",
       "50%      -86.158100    39.647800      NaN           NaN   \n",
       "75%      -77.177300    41.252400      NaN           NaN   \n",
       "max      -66.060200    47.674000      NaN           NaN   \n",
       "\n",
       "                          industry state      city  \n",
       "count                         1000  1000      1000  \n",
       "unique                          74    45       394  \n",
       "top     Specialty Retailers: Other    TX  New York  \n",
       "freq                            43   107        71  \n",
       "mean                           NaN   NaN       NaN  \n",
       "std                            NaN   NaN       NaN  \n",
       "min                            NaN   NaN       NaN  \n",
       "25%                            NaN   NaN       NaN  \n",
       "50%                            NaN   NaN       NaN  \n",
       "75%                            NaN   NaN       NaN  \n",
       "max                            NaN   NaN       NaN  "
      ]
     },
     "execution_count": 124,
     "metadata": {},
     "output_type": "execute_result"
    }
   ],
   "source": [
    "df.describe(include='all')"
   ]
  },
  {
   "cell_type": "markdown",
   "id": "8184c778-22e1-4ce3-8c6e-8555ad11ac04",
   "metadata": {},
   "source": [
    "### Mean"
   ]
  },
  {
   "cell_type": "code",
   "execution_count": 126,
   "id": "0e9cde6f-1fc1-4d95-b589-3bf4483670c6",
   "metadata": {},
   "outputs": [
    {
     "name": "stdout",
     "output_type": "stream",
     "text": [
      "38.135855899999996\n"
     ]
    }
   ],
   "source": [
    "mean=df['lat'].mean()\n",
    "print(mean)"
   ]
  },
  {
   "cell_type": "markdown",
   "id": "cd7fe4af-4480-4c52-82f8-42caad520dab",
   "metadata": {},
   "source": [
    "### Median"
   ]
  },
  {
   "cell_type": "code",
   "execution_count": 128,
   "id": "b87ced85-2cc6-4c00-acb2-e90d57fd6605",
   "metadata": {},
   "outputs": [
    {
     "name": "stdout",
     "output_type": "stream",
     "text": [
      "39.6478\n"
     ]
    }
   ],
   "source": [
    "median=df['lat'].median()\n",
    "print(median)"
   ]
  },
  {
   "cell_type": "markdown",
   "id": "d83c9196-4f31-4df4-95f3-08b9bb630f58",
   "metadata": {},
   "source": [
    "### Mode"
   ]
  },
  {
   "cell_type": "code",
   "execution_count": 130,
   "id": "6e9e1b86-bce3-4434-af8f-9c398ce90b37",
   "metadata": {},
   "outputs": [
    {
     "name": "stdout",
     "output_type": "stream",
     "text": [
      "0    40.7128\n",
      "Name: lat, dtype: float64\n"
     ]
    }
   ],
   "source": [
    "mode=df['lat'].mode()\n",
    "print(mode)"
   ]
  },
  {
   "cell_type": "markdown",
   "id": "0e81bf6c-77d1-4af4-b10e-0dfdf6fb1bb7",
   "metadata": {},
   "source": [
    "## Plot the distribution"
   ]
  },
  {
   "cell_type": "code",
   "execution_count": 132,
   "id": "7c624fbb-89c0-4f51-b983-d44679bc99d5",
   "metadata": {},
   "outputs": [
    {
     "data": {
      "text/html": [
       "<div>\n",
       "<style scoped>\n",
       "    .dataframe tbody tr th:only-of-type {\n",
       "        vertical-align: middle;\n",
       "    }\n",
       "\n",
       "    .dataframe tbody tr th {\n",
       "        vertical-align: top;\n",
       "    }\n",
       "\n",
       "    .dataframe thead th {\n",
       "        text-align: right;\n",
       "    }\n",
       "</style>\n",
       "<table border=\"1\" class=\"dataframe\">\n",
       "  <thead>\n",
       "    <tr style=\"text-align: right;\">\n",
       "      <th></th>\n",
       "      <th>total_bill</th>\n",
       "      <th>tip</th>\n",
       "      <th>sex</th>\n",
       "      <th>smoker</th>\n",
       "      <th>day</th>\n",
       "      <th>time</th>\n",
       "      <th>size</th>\n",
       "    </tr>\n",
       "  </thead>\n",
       "  <tbody>\n",
       "    <tr>\n",
       "      <th>0</th>\n",
       "      <td>16.99</td>\n",
       "      <td>1.01</td>\n",
       "      <td>Female</td>\n",
       "      <td>No</td>\n",
       "      <td>Sun</td>\n",
       "      <td>Dinner</td>\n",
       "      <td>2</td>\n",
       "    </tr>\n",
       "    <tr>\n",
       "      <th>1</th>\n",
       "      <td>10.34</td>\n",
       "      <td>1.66</td>\n",
       "      <td>Male</td>\n",
       "      <td>No</td>\n",
       "      <td>Sun</td>\n",
       "      <td>Dinner</td>\n",
       "      <td>3</td>\n",
       "    </tr>\n",
       "    <tr>\n",
       "      <th>2</th>\n",
       "      <td>21.01</td>\n",
       "      <td>3.50</td>\n",
       "      <td>Male</td>\n",
       "      <td>No</td>\n",
       "      <td>Sun</td>\n",
       "      <td>Dinner</td>\n",
       "      <td>3</td>\n",
       "    </tr>\n",
       "    <tr>\n",
       "      <th>3</th>\n",
       "      <td>23.68</td>\n",
       "      <td>3.31</td>\n",
       "      <td>Male</td>\n",
       "      <td>No</td>\n",
       "      <td>Sun</td>\n",
       "      <td>Dinner</td>\n",
       "      <td>2</td>\n",
       "    </tr>\n",
       "    <tr>\n",
       "      <th>4</th>\n",
       "      <td>24.59</td>\n",
       "      <td>3.61</td>\n",
       "      <td>Female</td>\n",
       "      <td>No</td>\n",
       "      <td>Sun</td>\n",
       "      <td>Dinner</td>\n",
       "      <td>4</td>\n",
       "    </tr>\n",
       "  </tbody>\n",
       "</table>\n",
       "</div>"
      ],
      "text/plain": [
       "   total_bill   tip     sex smoker  day    time  size\n",
       "0       16.99  1.01  Female     No  Sun  Dinner     2\n",
       "1       10.34  1.66    Male     No  Sun  Dinner     3\n",
       "2       21.01  3.50    Male     No  Sun  Dinner     3\n",
       "3       23.68  3.31    Male     No  Sun  Dinner     2\n",
       "4       24.59  3.61  Female     No  Sun  Dinner     4"
      ]
     },
     "execution_count": 132,
     "metadata": {},
     "output_type": "execute_result"
    }
   ],
   "source": [
    "import seaborn as sns\n",
    "import matplotlib.pyplot as plt\n",
    "\n",
    "from warnings import filterwarnings\n",
    "df=sns.load_dataset('tips')\n",
    "\n",
    "df.head()"
   ]
  },
  {
   "cell_type": "code",
   "execution_count": 94,
   "id": "7f8af33f-6413-4a50-9242-aee4e2ccd2f3",
   "metadata": {},
   "outputs": [
    {
     "data": {
      "text/plain": [
       "<Axes: xlabel='tip'>"
      ]
     },
     "execution_count": 94,
     "metadata": {},
     "output_type": "execute_result"
    },
    {
     "data": {
      "image/png": "[encoded data removed]",
      "text/plain": [
       "<Figure size 640x480 with 1 Axes>"
      ]
     },
     "metadata": {},
     "output_type": "display_data"
    }
   ],
   "source": [
    "sns.set_style('whitegrid')\n",
    "sns.distplot(df['tip'], kde = False, color ='blue', bins = 10)"
   ]
  },
  {
   "cell_type": "code",
   "execution_count": 96,
   "id": "0d7d6370-50c6-4841-aae2-e35da4f7be59",
   "metadata": {},
   "outputs": [],
   "source": [
    "import warnings\n",
    "warnings.filterwarnings(\"ignore\")"
   ]
  },
  {
   "cell_type": "code",
   "execution_count": 100,
   "id": "aba2281e-db88-4eae-8d1a-af4b18930a75",
   "metadata": {},
   "outputs": [
    {
     "data": {
      "text/plain": [
       "<seaborn.axisgrid.JointGrid at 0x1bd9d33dca0>"
      ]
     },
     "execution_count": 100,
     "metadata": {},
     "output_type": "execute_result"
    },
    {
     "data": {
      "image/png": "[encoded data removed]",
      "text/plain": [
       "<Figure size 600x600 with 3 Axes>"
      ]
     },
     "metadata": {},
     "output_type": "display_data"
    }
   ],
   "source": [
    "sns.jointplot(x='total_bill',y='tip', data=df)"
   ]
  },
  {
   "cell_type": "code",
   "execution_count": 102,
   "id": "526f35c6-6453-4983-8534-476b1e6ae0c4",
   "metadata": {},
   "outputs": [
    {
     "data": {
      "text/plain": [
       "<seaborn.axisgrid.JointGrid at 0x1bd9d41b7d0>"
      ]
     },
     "execution_count": 102,
     "metadata": {},
     "output_type": "execute_result"
    },
    {
     "data": {
      "image/png": "[encoded data removed]",
      "text/plain": [
       "<Figure size 600x600 with 3 Axes>"
      ]
     },
     "metadata": {},
     "output_type": "display_data"
    }
   ],
   "source": [
    "sns.jointplot(x ='total_bill', y ='tip', data = df, kind ='kde')"
   ]
  },
  {
   "cell_type": "code",
   "execution_count": null,
   "id": "b4b50336-9730-471f-9b4f-0638a71846a8",
   "metadata": {},
   "outputs": [],
   "source": []
  }
 ],
 "metadata": {
  "kernelspec": {
   "display_name": "Python 3 (ipykernel)",
   "language": "python",
   "name": "python3"
  },
  "language_info": {
   "codemirror_mode": {
    "name": "ipython",
    "version": 3
   },
   "file_extension": ".py",
   "mimetype": "text/x-python",
   "name": "python",
   "nbconvert_exporter": "python",
   "pygments_lexer": "ipython3",
   "version": "3.12.4"
  }
 },
 "nbformat": 4,
 "nbformat_minor": 5
}
